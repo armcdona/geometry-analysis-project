{
 "cells": [
  {
   "cell_type": "markdown",
   "id": "3a1dd145",
   "metadata": {},
   "source": [
    "# Geometry analysis project\n",
    "\n",
    "In the lesson materials, there is a file in the data folder called “water.xyz”. This is a very simple, standard file format that is often used to distribute molecular coordinates. The first line of the file is the number of atoms in the molecule, the second line is a title line (or may be blank), and the coordinates begin on the third line. The format of the coordinates is\n",
    "\n",
    "`Atom_Label  XCoor   YCoor   ZCoor`\n",
    "\n",
    "and the default units (which are used in this example) are angstroms.\n",
    "\n",
    "Write a code to read in the information from the xyz file and determine the bond lengths between all the atoms. There is a numpy function to take the square root is `numpy.sqrt()`. To raise a number to a power, use `**`, as in `3**2 = 9`. Your code output should look something like this.\n",
    "\n",
    "```\n",
    "O to O : 0.0\n",
    "O to H1 : 0.969\n",
    "O to H2 : 0.969\n",
    "H1 to O : 0.969\n",
    "H1 to H1 : 0.0\n",
    "H1 to H2 : 1.527\n",
    "H2 to O : 0.969\n",
    "H2 to H1 : 1.527\n",
    "H2 to H2 : 0.0\n",
    "```"
   ]
  },
  {
   "cell_type": "code",
   "execution_count": null,
   "id": "85122a5b",
   "metadata": {},
   "outputs": [],
   "source": []
  }
 ],
 "metadata": {
  "kernelspec": {
   "display_name": "Python 3 (ipykernel)",
   "language": "python",
   "name": "python3"
  },
  "language_info": {
   "codemirror_mode": {
    "name": "ipython",
    "version": 3
   },
   "file_extension": ".py",
   "mimetype": "text/x-python",
   "name": "python",
   "nbconvert_exporter": "python",
   "pygments_lexer": "ipython3",
   "version": "3.9.7"
  }
 },
 "nbformat": 4,
 "nbformat_minor": 5
}
